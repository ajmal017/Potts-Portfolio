{
 "cells": [
  {
   "cell_type": "markdown",
   "metadata": {},
   "source": [
    "# Analysis of Invite Views\n",
    "## Kenneth Potts, 4/20/2017"
   ]
  },
  {
   "cell_type": "markdown",
   "metadata": {},
   "source": [
    "## Split Test Analysis\n",
    "\n",
    "We have the results from the roughly 3000 invites sent as follows:\n",
    "\n",
    " - Baseline: 32 quotes out of 595 viewers\n",
    " - Variation 1: 30 quotes out of 599 viewers\n",
    " - Variation 2: 18 quotes out of 622 viewers\n",
    " - Variation 3: 51 quotes out of 606 viewers\n",
    " - Variation 4: 38 quotes out of 578 viewers"
   ]
  },
  {
   "cell_type": "code",
   "execution_count": 1,
   "metadata": {
    "collapsed": true
   },
   "outputs": [],
   "source": [
    "import pandas as pd"
   ]
  },
  {
   "cell_type": "code",
   "execution_count": 4,
   "metadata": {
    "collapsed": false
   },
   "outputs": [],
   "source": [
    "data = pd.read_clipboard(delimiter='\\t')"
   ]
  },
  {
   "cell_type": "code",
   "execution_count": 8,
   "metadata": {
    "collapsed": false
   },
   "outputs": [],
   "source": [
    "data = data.drop('Unnamed: 0', axis=1)"
   ]
  },
  {
   "cell_type": "code",
   "execution_count": 9,
   "metadata": {
    "collapsed": false
   },
   "outputs": [
    {
     "data": {
      "text/html": [
       "<div>\n",
       "<table border=\"1\" class=\"dataframe\">\n",
       "  <thead>\n",
       "    <tr style=\"text-align: right;\">\n",
       "      <th></th>\n",
       "      <th>Bucket</th>\n",
       "      <th>Quotes</th>\n",
       "      <th>Views</th>\n",
       "    </tr>\n",
       "  </thead>\n",
       "  <tbody>\n",
       "    <tr>\n",
       "      <th>0</th>\n",
       "      <td>Baseline</td>\n",
       "      <td>32</td>\n",
       "      <td>595</td>\n",
       "    </tr>\n",
       "    <tr>\n",
       "      <th>1</th>\n",
       "      <td>Variation 1</td>\n",
       "      <td>30</td>\n",
       "      <td>599</td>\n",
       "    </tr>\n",
       "    <tr>\n",
       "      <th>2</th>\n",
       "      <td>Variation 2</td>\n",
       "      <td>18</td>\n",
       "      <td>622</td>\n",
       "    </tr>\n",
       "    <tr>\n",
       "      <th>3</th>\n",
       "      <td>Variation 3</td>\n",
       "      <td>51</td>\n",
       "      <td>606</td>\n",
       "    </tr>\n",
       "    <tr>\n",
       "      <th>4</th>\n",
       "      <td>Variation 4</td>\n",
       "      <td>38</td>\n",
       "      <td>578</td>\n",
       "    </tr>\n",
       "  </tbody>\n",
       "</table>\n",
       "</div>"
      ],
      "text/plain": [
       "        Bucket  Quotes  Views\n",
       "0     Baseline      32    595\n",
       "1  Variation 1      30    599\n",
       "2  Variation 2      18    622\n",
       "3  Variation 3      51    606\n",
       "4  Variation 4      38    578"
      ]
     },
     "execution_count": 9,
     "metadata": {},
     "output_type": "execute_result"
    }
   ],
   "source": [
    "data"
   ]
  },
  {
   "cell_type": "code",
   "execution_count": 10,
   "metadata": {
    "collapsed": false
   },
   "outputs": [],
   "source": [
    "index = data.iloc[:,0].values"
   ]
  },
  {
   "cell_type": "code",
   "execution_count": 11,
   "metadata": {
    "collapsed": false
   },
   "outputs": [],
   "source": [
    "data = data.drop('Bucket', axis=1).set_index(index)"
   ]
  },
  {
   "cell_type": "markdown",
   "metadata": {},
   "source": [
    "### Interpretation\n",
    "\n",
    "I am interpreting this in terms of quotes per view. Here we will calculate the metric."
   ]
  },
  {
   "cell_type": "code",
   "execution_count": 12,
   "metadata": {
    "collapsed": true
   },
   "outputs": [],
   "source": [
    "data[\"quotes_per_view\"] = data.iloc[:,0] / data.iloc[:,1]"
   ]
  },
  {
   "cell_type": "code",
   "execution_count": 13,
   "metadata": {
    "collapsed": false
   },
   "outputs": [
    {
     "data": {
      "text/html": [
       "<div>\n",
       "<table border=\"1\" class=\"dataframe\">\n",
       "  <thead>\n",
       "    <tr style=\"text-align: right;\">\n",
       "      <th></th>\n",
       "      <th>Quotes</th>\n",
       "      <th>Views</th>\n",
       "      <th>quotes_per_view</th>\n",
       "    </tr>\n",
       "  </thead>\n",
       "  <tbody>\n",
       "    <tr>\n",
       "      <th>Baseline</th>\n",
       "      <td>32</td>\n",
       "      <td>595</td>\n",
       "      <td>0.053782</td>\n",
       "    </tr>\n",
       "    <tr>\n",
       "      <th>Variation 1</th>\n",
       "      <td>30</td>\n",
       "      <td>599</td>\n",
       "      <td>0.050083</td>\n",
       "    </tr>\n",
       "    <tr>\n",
       "      <th>Variation 2</th>\n",
       "      <td>18</td>\n",
       "      <td>622</td>\n",
       "      <td>0.028939</td>\n",
       "    </tr>\n",
       "    <tr>\n",
       "      <th>Variation 3</th>\n",
       "      <td>51</td>\n",
       "      <td>606</td>\n",
       "      <td>0.084158</td>\n",
       "    </tr>\n",
       "    <tr>\n",
       "      <th>Variation 4</th>\n",
       "      <td>38</td>\n",
       "      <td>578</td>\n",
       "      <td>0.065744</td>\n",
       "    </tr>\n",
       "  </tbody>\n",
       "</table>\n",
       "</div>"
      ],
      "text/plain": [
       "             Quotes  Views  quotes_per_view\n",
       "Baseline         32    595         0.053782\n",
       "Variation 1      30    599         0.050083\n",
       "Variation 2      18    622         0.028939\n",
       "Variation 3      51    606         0.084158\n",
       "Variation 4      38    578         0.065744"
      ]
     },
     "execution_count": 13,
     "metadata": {},
     "output_type": "execute_result"
    }
   ],
   "source": [
    "data"
   ]
  },
  {
   "cell_type": "markdown",
   "metadata": {},
   "source": [
    "Even more than quotes per view, if we think of each view having a probability for each quote, conditioned on the Bucket which is being viewed, then the `quotes_per_view` is the average probability for each view having a quote. In this case we must determine whether the averages we see among the 5 buckets are due to chance alone given the total average, or if they are more extreme than we would expect due to chance. We can easily simulate this process."
   ]
  },
  {
   "cell_type": "code",
   "execution_count": 14,
   "metadata": {
    "collapsed": true
   },
   "outputs": [],
   "source": [
    "import numpy as np"
   ]
  },
  {
   "cell_type": "code",
   "execution_count": 15,
   "metadata": {
    "collapsed": true
   },
   "outputs": [],
   "source": [
    "def simulate(p, n, t):\n",
    "    \"\"\"\n",
    "    Simulate n view t times with a probability of quote of p.\n",
    "    \n",
    "    returns the number of quotes in t trials of p views (histogram)\n",
    "    \n",
    "    p is the probability of quote\n",
    "    n is the number of views\n",
    "    t is the number of trials\n",
    "    \"\"\"\n",
    "    return (np.random.rand(n,t) < p).sum(axis=0) # generates the number of sumulated views"
   ]
  },
  {
   "cell_type": "code",
   "execution_count": 16,
   "metadata": {
    "collapsed": true
   },
   "outputs": [],
   "source": [
    "import matplotlib.pyplot as plt\n",
    "from matplotlib import style\n",
    "%matplotlib inline\n",
    "style.use(\"seaborn-whitegrid\")"
   ]
  },
  {
   "cell_type": "markdown",
   "metadata": {},
   "source": [
    "If we assume that the values probability of a quote is the same for all Buckets, then then a good estimate of this probability is the average of all the `quotes_per_view`."
   ]
  },
  {
   "cell_type": "code",
   "execution_count": 17,
   "metadata": {
    "collapsed": false
   },
   "outputs": [
    {
     "data": {
      "text/plain": [
       "0.056541250457961226"
      ]
     },
     "execution_count": 17,
     "metadata": {},
     "output_type": "execute_result"
    }
   ],
   "source": [
    "avg =  data.quotes_per_view.mean()\n",
    "avg"
   ]
  },
  {
   "cell_type": "markdown",
   "metadata": {},
   "source": [
    "We can simulate using this value as our probability of a quote for a single view. We run this simulation 5 times (5 buckets) with $n$ views corresponding to the empirical views for each bucket."
   ]
  },
  {
   "cell_type": "markdown",
   "metadata": {},
   "source": [
    "We will use trial sizes of 2000."
   ]
  },
  {
   "cell_type": "code",
   "execution_count": 18,
   "metadata": {
    "collapsed": false
   },
   "outputs": [],
   "source": [
    "sim_bucket_0 = simulate(p=avg, n=int(data.iloc[0,1]), t=2000)\n",
    "sim_bucket_1 = simulate(p=avg, n=int(data.iloc[1,1]), t=2000)\n",
    "sim_bucket_2 = simulate(p=avg, n=int(data.iloc[2,1]), t=2000)\n",
    "sim_bucket_3 = simulate(p=avg, n=int(data.iloc[3,1]), t=2000)\n",
    "sim_bucket_4 = simulate(p=avg, n=int(data.iloc[4,1]), t=2000)"
   ]
  },
  {
   "cell_type": "code",
   "execution_count": 19,
   "metadata": {
    "collapsed": false
   },
   "outputs": [
    {
     "data": {
      "image/png": "[encoded data removed]",
      "text/plain": [
       "<matplotlib.figure.Figure at 0x1150af048>"
      ]
     },
     "metadata": {},
     "output_type": "display_data"
    }
   ],
   "source": [
    "plt.hist(sim_bucket_0, bins=20, alpha=0.7);"
   ]
  },
  {
   "cell_type": "markdown",
   "metadata": {},
   "source": [
    "We can consider a value significant if events as extreme or more extreme occur less than $5\\%$ of the time"
   ]
  },
  {
   "cell_type": "code",
   "execution_count": 27,
   "metadata": {
    "collapsed": true
   },
   "outputs": [],
   "source": [
    "sim_0_low = np.percentile(sim_bucket_0,2.5)\n",
    "sim_0_high = np.percentile(sim_bucket_0,97.5)\n",
    "\n",
    "sim_1_low = np.percentile(sim_bucket_1,2.5)\n",
    "sim_1_high = np.percentile(sim_bucket_1,97.5)\n",
    "\n",
    "sim_2_low = np.percentile(sim_bucket_2,2.5)\n",
    "sim_2_high = np.percentile(sim_bucket_2,97.5)\n",
    "\n",
    "sim_3_low = np.percentile(sim_bucket_3,2.5)\n",
    "sim_3_high = np.percentile(sim_bucket_3,97.5)\n",
    "\n",
    "sim_4_low = np.percentile(sim_bucket_4,2.5)\n",
    "sim_4_high = np.percentile(sim_bucket_4,97.5)\n"
   ]
  },
  {
   "cell_type": "code",
   "execution_count": 28,
   "metadata": {
    "collapsed": false
   },
   "outputs": [
    {
     "data": {
      "text/plain": [
       "23.0"
      ]
     },
     "execution_count": 28,
     "metadata": {},
     "output_type": "execute_result"
    }
   ],
   "source": [
    "sim_0_low"
   ]
  },
  {
   "cell_type": "code",
   "execution_count": 29,
   "metadata": {
    "collapsed": false
   },
   "outputs": [
    {
     "data": {
      "text/plain": [
       "46.0"
      ]
     },
     "execution_count": 29,
     "metadata": {},
     "output_type": "execute_result"
    }
   ],
   "source": [
    "sim_0_high"
   ]
  },
  {
   "cell_type": "code",
   "execution_count": 30,
   "metadata": {
    "collapsed": false
   },
   "outputs": [
    {
     "name": "stdout",
     "output_type": "stream",
     "text": [
      "Non-significant resut for quotes for bucket 0\n",
      "Non-significant resut for quotes for bucket 1\n",
      "significant resut for quotes for bucket 2\n",
      "significant resut for quotes for bucket 3\n",
      "Non-significant resut for quotes for bucket 4\n"
     ]
    }
   ],
   "source": [
    "if data.iloc[0,0] > sim_0_high or data.iloc[0,0] < sim_0_low:\n",
    "    print(\"significant resut for quotes for bucket {}\".format(0))\n",
    "else:\n",
    "    print(\"Non-significant resut for quotes for bucket {}\".format(0))\n",
    "if data.iloc[1,0] > sim_1_high or data.iloc[1,0] < sim_1_low:\n",
    "    print(\"significant resut for quotes for bucket {}\".format(1))\n",
    "else:\n",
    "    print(\"Non-significant resut for quotes for bucket {}\".format(1))\n",
    "if data.iloc[2,0] > sim_2_high or data.iloc[2,0] < sim_2_low:\n",
    "    print(\"significant resut for quotes for bucket {}\".format(2))\n",
    "else:\n",
    "    print(\"Non-significant resut for quotes for bucket {}\".format(2))\n",
    "if data.iloc[3,0] > sim_3_high or data.iloc[3,0] < sim_3_low:\n",
    "    print(\"significant resut for quotes for bucket {}\".format(3))\n",
    "else:\n",
    "    print(\"Non-significant resut for quotes for bucket {}\".format(3))\n",
    "if data.iloc[4,0] > sim_4_high or data.iloc[4,0] < sim_4_low:\n",
    "    print(\"significant resut for quotes for bucket {}\".format(4))\n",
    "else:\n",
    "    print(\"Non-significant resut for quotes for bucket {}\".format(4))"
   ]
  },
  {
   "cell_type": "markdown",
   "metadata": {},
   "source": [
    "Two results appear to be statistically significant in this simulation, variation 2 and variation 3, where variation 2 had 18 quotes in 622 views, and variation 3 had 51 quotes in 606 views. The former being below the average, and latter being above the average. These variations have a significant impact on quotes per view, and likely have a different probabilities of a quote per view than the other variations."
   ]
  },
  {
   "cell_type": "code",
   "execution_count": null,
   "metadata": {
    "collapsed": true
   },
   "outputs": [],
   "source": []
  }
 ],
 "metadata": {
  "anaconda-cloud": {},
  "kernelspec": {
   "display_name": "Python [conda env:python3]",
   "language": "python",
   "name": "conda-env-python3-py"
  },
  "language_info": {
   "codemirror_mode": {
    "name": "ipython",
    "version": 3
   },
   "file_extension": ".py",
   "mimetype": "text/x-python",
   "name": "python",
   "nbconvert_exporter": "python",
   "pygments_lexer": "ipython3",
   "version": "3.5.2"
  }
 },
 "nbformat": 4,
 "nbformat_minor": 1
}
