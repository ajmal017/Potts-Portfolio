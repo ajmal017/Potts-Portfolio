{
 "cells": [
  {
   "cell_type": "code",
   "execution_count": 1,
   "metadata": {
    "collapsed": true
   },
   "outputs": [],
   "source": [
    "import numpy as np"
   ]
  },
  {
   "cell_type": "markdown",
   "metadata": {},
   "source": [
    "# Phone Number Dialing and Unique Graph Paths\n",
    "\n",
    "I was asked this question on a job application recently. It was a question that I thoroughly enjoyed answering! My solution to this question was primarily influenced by my current work regarding touring times of incomplete graphs. It just happens that if you structure the questiong in terms of an incomplete graph, a solution can be found using an adjacency matrix, which I have been\n",
    "\n",
    "## Question:\n",
    "\n",
    "How many distinct 7-digit numbers can you dial on a standard phone (layout: 123\\\\456\\\\789\\\\`*`0#) if you must start at the \"0\" and move only as a knight does in chess (an \"L\")? (Numbers mustn't include `*` or #.\n",
    "\n",
    "### My Solution:\n",
    "I am interpretting this as a graph structure with nodes and edges. The nodes are the numbers 0 to 9 and the edges between the linked nodes are defined by the \"L\" shaped move on a standard phone layout. This means that 0 is linked to 4 by and edge, and also to 6. This gives the following nodes and edges in the format (node: linked node, linked node,...) Listing all of the nodes and edges:\n",
    "\n",
    "(0: 4,6); (1: 6,8); (2: 7,9); (3: 4,8); (4: 0,3,9); (5: ~); (6: 0,1,7); (7: 2,6); (8: 1,3); (9: 2,4)\n",
    " \n",
    "Notice that 5 has no connecting edges or linked nodes. By the structure of the letters and the \"L\" shape, 5 cannot possibly be chosen. We can represent all of these nodes and edges in a 10x10 adjacency matrix, A, where the (i,j) entry is a \"1\" if there exists an edge between nodes i and j, and a \"0\" if no such edge is present."
   ]
  },
  {
   "cell_type": "code",
   "execution_count": 45,
   "metadata": {
    "collapsed": true
   },
   "outputs": [],
   "source": [
    "A = np.array([[0,0,0,0,1,0,1,0,0,0],\n",
    "              [0,0,0,0,0,0,1,0,1,0],\n",
    "              [0,0,0,0,0,0,0,1,0,1],\n",
    "              [0,0,0,0,1,0,0,0,1,0],\n",
    "              [1,0,0,1,0,0,0,0,0,1],\n",
    "              [0,0,0,0,0,0,0,0,0,0],\n",
    "              [1,1,0,0,0,0,0,1,0,0],\n",
    "              [0,0,1,0,0,0,1,0,0,0],\n",
    "              [0,1,0,1,0,0,0,0,0,0],\n",
    "              [0,0,1,0,1,0,0,0,0,0]])"
   ]
  },
  {
   "cell_type": "code",
   "execution_count": 47,
   "metadata": {
    "collapsed": false
   },
   "outputs": [
    {
     "data": {
      "text/plain": [
       "array([[0, 0, 0, 0, 1, 0, 1, 0, 0, 0],\n",
       "       [0, 0, 0, 0, 0, 0, 1, 0, 1, 0],\n",
       "       [0, 0, 0, 0, 0, 0, 0, 1, 0, 1],\n",
       "       [0, 0, 0, 0, 1, 0, 0, 0, 1, 0],\n",
       "       [1, 0, 0, 1, 0, 0, 0, 0, 0, 1],\n",
       "       [0, 0, 0, 0, 0, 0, 0, 0, 0, 0],\n",
       "       [1, 1, 0, 0, 0, 0, 0, 1, 0, 0],\n",
       "       [0, 0, 1, 0, 0, 0, 1, 0, 0, 0],\n",
       "       [0, 1, 0, 1, 0, 0, 0, 0, 0, 0],\n",
       "       [0, 0, 1, 0, 1, 0, 0, 0, 0, 0]])"
      ]
     },
     "execution_count": 47,
     "metadata": {},
     "output_type": "execute_result"
    }
   ],
   "source": [
    "A"
   ]
  },
  {
   "cell_type": "markdown",
   "metadata": {},
   "source": [
    "Now, if we wish to determine the number of 7-digit numbers, beginning at 0, that we can dial given this structure, then this is equivalent to calculating the number of unique paths on the defined graph, which start at node 0, and visit exactly 7 total nodes. Given the adjacency matrix $A$, we can compute the matrix $A^7$ ($A$ raised to the $7^{th}$ power), which has the property that the (i,j) entry is exactly the number of unique paths from node i to node j that are of length 7. \n",
    "\n",
    "We then find row 0 of the matrix $A^7$, which holds the number of length 7 paths from node 0 to all other nodes. Given that we are only restricted to starting at 0, the 7-digit number may end with any digit, therefore we take the sum of row 0 to get the total number of unique length 7 paths, which begin at node 0.\n",
    "   "
   ]
  },
  {
   "cell_type": "code",
   "execution_count": 46,
   "metadata": {
    "collapsed": false
   },
   "outputs": [
    {
     "data": {
      "text/plain": [
       "array([  0,   0,  64,   0, 104,   0, 104,   0,  64,   0])"
      ]
     },
     "execution_count": 46,
     "metadata": {},
     "output_type": "execute_result"
    }
   ],
   "source": [
    "A_0 = np.linalg.matrix_power(A, 7)[0]\n",
    "A_0"
   ]
  },
  {
   "cell_type": "code",
   "execution_count": 48,
   "metadata": {
    "collapsed": false
   },
   "outputs": [
    {
     "data": {
      "text/plain": [
       "336"
      ]
     },
     "execution_count": 48,
     "metadata": {},
     "output_type": "execute_result"
    }
   ],
   "source": [
    "A_0.sum()"
   ]
  },
  {
   "cell_type": "markdown",
   "metadata": {},
   "source": [
    "Since calculating $A^7$ by hand can be tedious, I entered matrix $A$ into python using numpy, and then raised it to the $7^{th}$ power. I then found the first row, corresponding to node 0, which is [0,0,64,0,104,0,104,0,64,0]. The sum of this row is 336, which is the number of 7-digit numbers beginning with 0 which can be made on a standard phone number pad using the \"L\" shape selection pattern. **Answer: 336 distrinct numbers**."
   ]
  },
  {
   "cell_type": "code",
   "execution_count": null,
   "metadata": {
    "collapsed": true
   },
   "outputs": [],
   "source": []
  }
 ],
 "metadata": {
  "anaconda-cloud": {},
  "kernelspec": {
   "display_name": "Python [conda env:python3]",
   "language": "python",
   "name": "conda-env-python3-py"
  },
  "language_info": {
   "codemirror_mode": {
    "name": "ipython",
    "version": 3
   },
   "file_extension": ".py",
   "mimetype": "text/x-python",
   "name": "python",
   "nbconvert_exporter": "python",
   "pygments_lexer": "ipython3",
   "version": "3.5.2"
  }
 },
 "nbformat": 4,
 "nbformat_minor": 1
}
